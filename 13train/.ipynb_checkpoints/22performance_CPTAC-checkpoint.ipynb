{
 "cells": [
  {
   "cell_type": "code",
   "execution_count": 1,
   "metadata": {},
   "outputs": [],
   "source": [
    "import numpy as np\n",
    "import pandas as pd\n",
    "import matplotlib.pyplot as plt\n",
    "import os,sys,time\n",
    "#from utils import *\n",
    "from scipy.stats import pearsonr"
   ]
  },
  {
   "cell_type": "code",
   "execution_count": 2,
   "metadata": {},
   "outputs": [],
   "source": [
    "project1 = \"BRCA\"\n",
    "project2 = \"CPTAC-BRCA\"\n",
    "\n",
    "task_name = \"GE\"\n",
    "path2target = \"../12target/\"\n",
    "result_dir = f\"{project2}_results/\"\n",
    "path2val = f\"../../cptac/\""
   ]
  },
  {
   "cell_type": "code",
   "execution_count": 3,
   "metadata": {},
   "outputs": [],
   "source": [
    "def compute_coef(labels, preds):\n",
    "    coef = np.array([pearsonr(labels[:,i], preds[:,i])[0] for i in range(labels.shape[1])])\n",
    "    print(sum(coef > 0.4),sum(coef > 0.45),sum(coef > 0.5), sum(coef > 0.55), sum(coef > 0.6))\n",
    "    return coef"
   ]
  },
  {
   "cell_type": "code",
   "execution_count": 4,
   "metadata": {},
   "outputs": [
    {
     "name": "stdout",
     "output_type": "stream",
     "text": [
      "n_genes: 18450\n"
     ]
    }
   ],
   "source": [
    "#genes_source = np.loadtxt(f\"{path2target}{project1}_genes.txt\", dtype=\"str\")\n",
    "#genes_source = genes_source[:,0]\n",
    "genes_source = pd.read_csv(f\"{path2target}{project1}_PE_genes.csv\")\n",
    "genes_source = genes_source[\"gene\"].values\n",
    "\n",
    "n_genes = len(genes_source)\n",
    "print(\"n_genes:\", n_genes)"
   ]
  },
  {
   "cell_type": "code",
   "execution_count": 5,
   "metadata": {},
   "outputs": [
    {
     "name": "stdout",
     "output_type": "stream",
     "text": [
      "(14309,)\n",
      "['A1BG-AS1' 'A2M' 'A2M-AS1' ... 'ZYX' 'ZZEF1' 'ZZZ3']\n",
      "(14309,)\n"
     ]
    }
   ],
   "source": [
    "#genes_target = np.loadtxt(f\"{path2target}{project2}_genes.txt\", dtype=\"str\")\n",
    "genes_target = pd.read_csv(f\"{path2val}12actual_GE/{project2}_genes.csv\")\n",
    "genes_target = genes_target[\"gene\"].values\n",
    "print(genes_target.shape)\n",
    "\n",
    "genes = np.intersect1d(genes_source, genes_target)\n",
    "print(genes)\n",
    "print(genes.shape)\n",
    "\n",
    "cols = np.hstack((\"patient_id\", genes))"
   ]
  },
  {
   "cell_type": "code",
   "execution_count": 6,
   "metadata": {},
   "outputs": [
    {
     "name": "stdout",
     "output_type": "stream",
     "text": [
      "(106, 14309) (106, 14309)\n",
      "3339 2301 1516 989 567\n"
     ]
    }
   ],
   "source": [
    "df_pred = pd.read_pickle(f\"{result_dir}{project2}_pred.pkl\")\n",
    "#df_actual = pd.read_pickle(f\"../12target/{project2}_log.pkl\")\n",
    "df_actual = pd.read_pickle(f\"{path2val}/12actual_{task_name}/{project2}_actual.pkl\")\n",
    "\n",
    "## select only commond genes\n",
    "df_pred = df_pred[cols]\n",
    "df_actual = df_actual[cols]\n",
    "\n",
    "## aggregate to patient level:\n",
    "df_actual_patient = df_actual.groupby([\"patient_id\"], as_index=False).aggregate(\"mean\")\n",
    "df_pred_patient = df_pred.groupby([\"patient_id\"], as_index=False).aggregate(\"mean\")\n",
    "\n",
    "# %%\n",
    "actual_patient = df_actual_patient[genes].values\n",
    "pred_patient = df_pred_patient[genes].values\n",
    "print(actual_patient.shape, pred_patient.shape)\n",
    "coef = compute_coef(actual_patient, pred_patient)\n",
    "\n",
    "df_actual_patient.to_pickle(f\"{result_dir}{project2}_actual_patient.pkl\")\n",
    "df_pred_patient.to_pickle(f\"{result_dir}{project2}_pred_patient.pkl\")"
   ]
  },
  {
   "cell_type": "code",
   "execution_count": 7,
   "metadata": {},
   "outputs": [],
   "source": [
    "df_coef = pd.DataFrame(data={\"gene\": genes, \"coef\": coef})\n",
    "\n",
    "df_coef.to_csv(f\"{result_dir}coef.csv\", index=None)\n",
    "df_sorted = df_coef.sort_values(by=\"coef\", ascending=False)                   \n",
    "df_sorted.to_csv(f\"{result_dir}coef_sorted.csv\", index=None)"
   ]
  },
  {
   "cell_type": "code",
   "execution_count": 8,
   "metadata": {},
   "outputs": [],
   "source": [
    "## cumulative: number of genes with coefs_mean (over 5 folds) > threshold\n",
    "coef0 = np.linspace(0.4, 0.6, 21, endpoint=True)\n",
    "n = np.zeros(len(coef0))\n",
    "for i, t in enumerate(coef0):\n",
    "    n[i] = sum(coef > t)\n",
    "    #print(i, t, n[i])\n",
    "    \n",
    "df_thrsd = pd.DataFrame(data={\"thrsd\": coef0, \"n_genes\": n})\n",
    "df_thrsd.to_csv(f\"{result_dir}n_genes_thrsd.csv\", index=None)"
   ]
  },
  {
   "cell_type": "code",
   "execution_count": 9,
   "metadata": {},
   "outputs": [
    {
     "data": {
      "image/png": "[encoded data removed]",
      "text/plain": [
       "<Figure size 504x216 with 2 Axes>"
      ]
     },
     "metadata": {
      "needs_background": "light"
     },
     "output_type": "display_data"
    }
   ],
   "source": [
    "nx,ny = 2,1\n",
    "fig, ax = plt.subplots(ny,nx,figsize=(nx*3.5,ny*3))\n",
    "\n",
    "bins1 = np.linspace(-0.2,0.8,41, endpoint=True)\n",
    "ax[0].hist(coef,bins=bins1,histtype='bar',color=\"lightblue\",edgecolor=\"black\",rwidth=0.85)\n",
    "#ax[0].plot([R0_min, R0_min],[0,50000], \"--\", color=\"red\", label=\"p-adj=0.05\")\n",
    "#ax[0].plot([0, 0],[0,2000], \"--\", color=\"red\", label=\"p-adj=0.05\")\n",
    "ax[0].vlines(0,0,1000,linestyles=\"dashed\", colors=\"red\")\n",
    "ax[0].set_xlabel(\"Correlation\")\n",
    "ax[0].set_ylabel(\"Number of genes\")\n",
    "ax[0].set_xticks([-0.2,0,0.2,0.4,0.6,0.8])\n",
    "#ax[0].set_ylim(0,2000)\n",
    "#ax[0].set_yticks([500,1000,1500,2000])\n",
    "#ax[0].legend()\n",
    "\n",
    "ax[1].plot(coef0,n, \"o--\", label=\"DeepPT\")\n",
    "ax[1].set_xlabel(\"Correlation threshold\")\n",
    "ax[1].set_ylabel(\"Number of sites\")\n",
    "#ax[1].plot(0.4,786, \"^\", label=\"HE2RNA\")\n",
    "\n",
    "#ax[1].legend()\n",
    "plt.tight_layout(h_pad=1, w_pad= 1.5)\n",
    "plt.savefig(f\"{result_dir}hist_cum.pdf\", format='pdf', dpi=50)"
   ]
  },
  {
   "cell_type": "code",
   "execution_count": null,
   "metadata": {},
   "outputs": [],
   "source": []
  }
 ],
 "metadata": {
  "kernelspec": {
   "display_name": "Python 3 (ipykernel)",
   "language": "python",
   "name": "python3"
  },
  "language_info": {
   "codemirror_mode": {
    "name": "ipython",
    "version": 3
   },
   "file_extension": ".py",
   "mimetype": "text/x-python",
   "name": "python",
   "nbconvert_exporter": "python",
   "pygments_lexer": "ipython3",
   "version": "3.9.7"
  }
 },
 "nbformat": 4,
 "nbformat_minor": 4
}
