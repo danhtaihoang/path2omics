{
 "cells": [
  {
   "cell_type": "code",
   "execution_count": 1,
   "metadata": {},
   "outputs": [],
   "source": [
    "import numpy as np\n",
    "import pandas as pd\n",
    "import matplotlib.pyplot as plt\n",
    "import os,sys,time\n",
    "from utils import *\n",
    "import matplotlib.ticker as ticker"
   ]
  },
  {
   "cell_type": "code",
   "execution_count": 2,
   "metadata": {},
   "outputs": [],
   "source": [
    "project = \"BRCA\"\n",
    "\n",
    "path2target = \"../12target/\"\n",
    "result_folder = f\"{project}_results/\""
   ]
  },
  {
   "cell_type": "code",
   "execution_count": 3,
   "metadata": {},
   "outputs": [
    {
     "name": "stdout",
     "output_type": "stream",
     "text": [
      "n_genes: 18450\n"
     ]
    }
   ],
   "source": [
    "genes = np.loadtxt(f\"{path2target}{project}_genes.txt\", dtype=\"str\")\n",
    "genes = genes[:,0]\n",
    "n_genes = len(genes)\n",
    "print(\"n_genes:\", n_genes)"
   ]
  },
  {
   "cell_type": "code",
   "execution_count": 4,
   "metadata": {},
   "outputs": [
    {
     "name": "stdout",
     "output_type": "stream",
     "text": [
      "actual.shape: (1034, 18450)\n",
      "pred.shape: (1034, 18450)\n"
     ]
    }
   ],
   "source": [
    "df_actual = pd.read_pickle(f\"{result_folder}{project}_actual_patient.pkl\")\n",
    "#df_actual = pd.read_csv(f\"{result_folder}{project}_actual_patient.csv\")\n",
    "actual = df_actual[genes].values\n",
    "print(\"actual.shape:\", actual.shape)\n",
    "\n",
    "df_pred = pd.read_pickle(f\"{result_folder}{project}_pred_patient.pkl\")\n",
    "#df_pred = pd.read_csv(f\"{result_folder}{project}_pred_patient.csv\")\n",
    "pred = df_pred[genes].values\n",
    "print(\"pred.shape:\", pred.shape)"
   ]
  },
  {
   "cell_type": "code",
   "execution_count": 5,
   "metadata": {},
   "outputs": [
    {
     "name": "stdout",
     "output_type": "stream",
     "text": [
      "4208 2642 1533 677 214\n",
      "number of predictable genes across all samples - adjusted: 18064\n",
      "n_genes with p<0.05: 18064\n",
      "R0_min: 0.11321914102295802\n"
     ]
    }
   ],
   "source": [
    "coef, slope, p_adj = compute_coef_slope_padj(actual, pred)\n",
    "print(sum(coef > 0.4),sum(coef > 0.45),sum(coef > 0.5), sum(coef > 0.55), sum(coef > 0.6))\n",
    "\n",
    "n_genes_p_adj005 = np.sum(p_adj<0.05)\n",
    "print(\"number of predictable genes across all samples - adjusted:\", n_genes_p_adj005)\n",
    "\n",
    "np.savetxt(f\"{result_folder}n_predictable_genes.txt\", np.array([n_genes_p_adj005]), fmt=\"%s\")\n",
    "\n",
    "## find coef_min with p_adj < 0.05:\n",
    "i = p_adj < 0.05\n",
    "R0 = coef[i]\n",
    "\n",
    "n0 = R0.shape[0]\n",
    "R0_min = np.min(R0)\n",
    "print(\"n_genes with p<0.05:\", n0)\n",
    "print(\"R0_min:\", R0_min)"
   ]
  },
  {
   "cell_type": "code",
   "execution_count": 6,
   "metadata": {},
   "outputs": [],
   "source": [
    "df = pd.DataFrame(data={\"gene\": genes, \"coef\": coef, \"slope\": slope, \"p_adj\": p_adj})\n",
    "df.to_csv(f\"{result_folder}R_all.csv\", index=None)\n",
    "df_sorted = df.sort_values(by=\"coef\", ascending=False)                   \n",
    "df_sorted.to_csv(f\"{result_folder}R_all_sorted.csv\", index=None)"
   ]
  },
  {
   "cell_type": "code",
   "execution_count": 7,
   "metadata": {},
   "outputs": [
    {
     "name": "stdout",
     "output_type": "stream",
     "text": [
      "0 0.4 4208.0\n",
      "1 0.42000000000000004 3516.0\n",
      "2 0.44 2896.0\n",
      "3 0.46 2391.0\n",
      "4 0.48 1923.0\n",
      "5 0.5 1533.0\n",
      "6 0.52 1141.0\n",
      "7 0.54 824.0\n",
      "8 0.56 562.0\n",
      "9 0.58 360.0\n",
      "10 0.6 214.0\n"
     ]
    }
   ],
   "source": [
    "## cumulative: number of genes with coefs_mean (over 5 folds) > threshold\n",
    "coef0= np.linspace(0.4, 0.6, 11, endpoint=True)\n",
    "n = np.zeros(len(coef0))\n",
    "for i, t in enumerate(coef0):\n",
    "    n[i] = sum(coef > t)\n",
    "    print(i, t, n[i])\n",
    "    \n",
    "np.savetxt(f\"{result_folder}n_genes_threshold.txt\", np.array((coef0, n)).T, fmt=\"%s %s\")"
   ]
  },
  {
   "cell_type": "code",
   "execution_count": 8,
   "metadata": {},
   "outputs": [
    {
     "data": {
      "image/png": "[encoded data removed]",
      "text/plain": [
       "<Figure size 504x216 with 2 Axes>"
      ]
     },
     "metadata": {
      "needs_background": "light"
     },
     "output_type": "display_data"
    }
   ],
   "source": [
    "nx,ny = 2,1\n",
    "fig, ax = plt.subplots(ny,nx,figsize=(nx*3.5,ny*3))\n",
    "\n",
    "bins1 = np.linspace(-0.2,0.8,11, endpoint=True)\n",
    "ax[0].hist(coef,bins=bins1,histtype='bar',color=\"lightblue\",edgecolor=\"black\",rwidth=0.85)\n",
    "ax[0].plot([R0_min, R0_min],[0,50000], \"--\", color=\"red\", label=\"p-adj=0.05\")\n",
    "ax[0].set_xlabel(\"Correlation\")\n",
    "ax[0].set_ylabel(\"Number of sites\")\n",
    "ax[0].set_xticks([-0.2,0,0.2,0.4,0.6,0.8])\n",
    "ax[0].set_ylim(0,6000)\n",
    "ax[0].set_yticks([1000,2000,3000,4000,5000,6000])\n",
    "ax[0].legend()\n",
    "\n",
    "ax[1].plot(coef0,n, \"o--\", label=\"DeepPT\")\n",
    "ax[1].set_xlabel(\"Correlation threshold\")\n",
    "ax[1].set_ylabel(\"Number of sites\")\n",
    "#ax[1].plot(0.4,786, \"^\", label=\"HE2RNA\")\n",
    "\n",
    "#ax[1].legend()\n",
    "plt.tight_layout(h_pad=1, w_pad= 1.5)\n",
    "plt.savefig(f\"{result_folder}hist_cum.pdf\", format='pdf', dpi=50)"
   ]
  },
  {
   "cell_type": "code",
   "execution_count": null,
   "metadata": {},
   "outputs": [],
   "source": []
  }
 ],
 "metadata": {
  "kernelspec": {
   "display_name": "Python 3 (ipykernel)",
   "language": "python",
   "name": "python3"
  },
  "language_info": {
   "codemirror_mode": {
    "name": "ipython",
    "version": 3
   },
   "file_extension": ".py",
   "mimetype": "text/x-python",
   "name": "python",
   "nbconvert_exporter": "python",
   "pygments_lexer": "ipython3",
   "version": "3.9.7"
  }
 },
 "nbformat": 4,
 "nbformat_minor": 4
}
