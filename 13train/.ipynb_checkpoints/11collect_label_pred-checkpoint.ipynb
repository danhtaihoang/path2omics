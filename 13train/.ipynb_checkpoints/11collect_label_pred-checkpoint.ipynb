{
 "cells": [
  {
   "cell_type": "code",
   "execution_count": 1,
   "metadata": {},
   "outputs": [],
   "source": [
    "import numpy as np\n",
    "import pandas as pd\n",
    "import matplotlib.pyplot as plt\n",
    "import os,sys,time\n",
    "from utils import *\n",
    "#from scipy.stats import pearsonr"
   ]
  },
  {
   "cell_type": "code",
   "execution_count": 2,
   "metadata": {},
   "outputs": [
    {
     "name": "stdout",
     "output_type": "stream",
     "text": [
      " \n",
      "--- Collecting labels and preds ---\n"
     ]
    }
   ],
   "source": [
    "##===========================================================================\n",
    "print(\" \")\n",
    "print(\"--- Collecting labels and preds ---\")\n",
    "\n",
    "project = \"BRCA\"\n",
    "#project = sys.argv[1]\n",
    "path2meta = \"../10metadata/\"\n",
    "\n",
    "result_dir = f\"{project}_results/\"\n",
    "os.makedirs(result_dir,exist_ok=True)"
   ]
  },
  {
   "cell_type": "code",
   "execution_count": 3,
   "metadata": {},
   "outputs": [
    {
     "name": "stdout",
     "output_type": "stream",
     "text": [
      "n_genes: 18450\n",
      "n_models: 1\n",
      "i_steps.shape: (1,)\n",
      "[0]\n"
     ]
    }
   ],
   "source": [
    "genes = np.loadtxt(f\"../12target/{project}_genes.txt\", dtype=\"str\")\n",
    "genes = genes[:,0]\n",
    "n_genes = len(genes)\n",
    "print(\"n_genes:\", n_genes)\n",
    "\n",
    "n_genes_each = 22000\n",
    "n_models = int((n_genes-1)/n_genes_each) + 1\n",
    "print(\"n_models:\", n_models)\n",
    "\n",
    "i_steps = np.array([i*n_genes_each for i in range(n_models)])\n",
    "print(\"i_steps.shape:\", i_steps.shape)\n",
    "print(i_steps)"
   ]
  },
  {
   "cell_type": "code",
   "execution_count": 4,
   "metadata": {},
   "outputs": [
    {
     "name": "stdout",
     "output_type": "stream",
     "text": [
      " \n",
      "ik_fold: 0\n",
      " \n",
      "ik_fold: 1\n",
      " \n",
      "ik_fold: 2\n",
      " \n",
      "ik_fold: 3\n",
      " \n",
      "ik_fold: 4\n",
      "(1096, 18450) (1096, 18450)\n"
     ]
    }
   ],
   "source": [
    "##===========================================================================\n",
    "ik_folds = [0,1,2,3,4]\n",
    "il_folds = [0,1,2,3,4]\n",
    "\n",
    "labels_all = [] ; preds_all = []\n",
    "for ik,ik_fold in enumerate(ik_folds):\n",
    "    print(\" \")\n",
    "    print(\"ik_fold:\", ik_fold)\n",
    "    \n",
    "    ##=====================================\n",
    "    ## labels\n",
    "    labels = []\n",
    "    for i in i_steps:\n",
    "        label = np.load(f\"results/result_{ik_fold}_{il_folds[0]}_{i}/test_labels.npy\")\n",
    "        labels.append(label)\n",
    "\n",
    "    labels = np.concatenate(labels,axis=1)\n",
    "\n",
    "    #np.save(\"labels_ik%s.npy\"%ik_fold,labels)\n",
    "    \n",
    "    ##=====================================\n",
    "    ## preds\n",
    "    preds_mean = np.zeros((len(il_folds), labels.shape[0], labels.shape[1]))\n",
    "    for il_fold in il_folds:\n",
    "        preds = []\n",
    "        for i in i_steps:\n",
    "            pred = np.load(f\"results/result_{ik_fold}_{il_fold}_{i}/test_preds.npy\")\n",
    "            preds.append(pred)\n",
    "        \n",
    "        preds = np.concatenate(preds,axis=1)\n",
    "\n",
    "        preds_mean[il_fold,:,:] = preds\n",
    "    \n",
    "    preds_mean = np.mean(preds_mean,axis=0)\n",
    "    #np.save(\"preds_ik%s.npy\"%ik_fold, preds_mean)\n",
    "\n",
    "    ##-----------------------\n",
    "    #np.save(f\"{result_folder}test_actual_ik{ik_fold}.npy\",labels)\n",
    "    #np.save(f\"{result_folder}test_pred_ik{ik_fold}.npy\", preds_mean)\n",
    "\n",
    "    ##=====================================\n",
    "    labels_all.append(labels)\n",
    "    preds_all.append(preds_mean)\n",
    "\n",
    "labels_all = np.concatenate(labels_all)\n",
    "preds_all = np.concatenate(preds_all)\n",
    "\n",
    "print(labels_all.shape, preds_all.shape)\n",
    "##===========================================================================\n",
    "np.save(f\"{result_dir}labels_all.npy\", labels_all)\n",
    "np.save(f\"{result_dir}preds_all.npy\", preds_all)"
   ]
  },
  {
   "cell_type": "code",
   "execution_count": 5,
   "metadata": {},
   "outputs": [],
   "source": [
    "## create predicted file\n",
    "df_meta = pd.read_csv(f\"{path2meta}{project}_slide_selected.csv\")\n",
    "\n",
    "## patient split\n",
    "train_valid_test_idx = np.load(f\"{path2meta}{project}_train_valid_test_idx.npz\", allow_pickle=True)\n",
    "for ik_fold in np.arange(5):\n",
    "    test_idx = train_valid_test_idx[\"test_idx\"][ik_fold]\n",
    "    \n",
    "    if ik_fold == 0:\n",
    "        test_idx_all = test_idx\n",
    "    else:\n",
    "        test_idx_all = np.hstack((test_idx_all,test_idx))\n",
    "\n",
    "df_test = df_meta.loc[test_idx_all].reset_index(drop=True)"
   ]
  },
  {
   "cell_type": "code",
   "execution_count": 6,
   "metadata": {},
   "outputs": [],
   "source": [
    "df_actual = pd.DataFrame(columns=genes, data=labels_all)\n",
    "df_actual = pd.concat([df_test, df_actual],axis=1)\n",
    "\n",
    "df_pred = pd.DataFrame(columns=genes, data=preds_all)\n",
    "df_pred = pd.concat([df_test, df_pred],axis=1)\n",
    "\n",
    "## get the same order of slide_selected file\n",
    "df_actual = df_actual.sort_values(by=\"slide_name\", ignore_index=True)\n",
    "df_pred = df_pred.sort_values(by=\"slide_name\", ignore_index=True)"
   ]
  },
  {
   "cell_type": "code",
   "execution_count": 7,
   "metadata": {},
   "outputs": [],
   "source": [
    "df_actual.to_pickle(f\"{result_dir}{project}_actual.pkl\")\n",
    "df_pred.to_pickle(f\"{result_dir}{project}_pred.pkl\")"
   ]
  },
  {
   "cell_type": "code",
   "execution_count": 8,
   "metadata": {},
   "outputs": [
    {
     "name": "stdout",
     "output_type": "stream",
     "text": [
      "coefs_all:\n",
      "4100 2531 1438 604 180\n"
     ]
    }
   ],
   "source": [
    "##\n",
    "print(\"coefs_all:\")\n",
    "coefs, slope, padj = compute_coef_slope_padj(labels_all, preds_all)\n",
    "print(sum(coefs > 0.4),sum(coefs > 0.45),sum(coefs > 0.5), sum(coefs > 0.55), sum(coefs > 0.6))\n",
    "\n",
    "## sort genes by coefs\n",
    "#i0 = np.argsort(coefs)[::-1]\n",
    "#np.savetxt(f\"{result_dir}R_all.txt\", np.array((genes, coefs, slope, p)).T, fmt=\"%s %s %s %s\")\n",
    "#np.savetxt(f\"{result_dir}R_all_sorted.txt\", np.array((genes[i0], coefs[i0], slope[i0], p[i0])).T, fmt=\"%s %s %s %s\")"
   ]
  },
  {
   "cell_type": "code",
   "execution_count": 9,
   "metadata": {},
   "outputs": [
    {
     "name": "stdout",
     "output_type": "stream",
     "text": [
      "0 0.4 4100.0\n",
      "1 0.42000000000000004 3400.0\n",
      "2 0.44 2790.0\n",
      "3 0.46 2292.0\n",
      "4 0.48 1857.0\n",
      "5 0.5 1438.0\n",
      "6 0.52 1073.0\n",
      "7 0.54 738.0\n",
      "8 0.56 494.0\n",
      "9 0.58 314.0\n",
      "10 0.6 180.0\n"
     ]
    }
   ],
   "source": [
    "##----------------\n",
    "coef0 = np.linspace(0.4, 0.6, 11, endpoint=True)\n",
    "n = np.zeros(len(coef0))\n",
    "for i, t in enumerate(coef0):\n",
    "    n[i] = sum(coefs > t)\n",
    "    print(i, t, n[i])\n",
    "#np.savetxt(f\"{result_dir}n_genes_threshold.txt\", np.array((coef0, n)).T, fmt=\"%s %s\")"
   ]
  },
  {
   "cell_type": "code",
   "execution_count": null,
   "metadata": {},
   "outputs": [],
   "source": []
  }
 ],
 "metadata": {
  "kernelspec": {
   "display_name": "Python 3 (ipykernel)",
   "language": "python",
   "name": "python3"
  },
  "language_info": {
   "codemirror_mode": {
    "name": "ipython",
    "version": 3
   },
   "file_extension": ".py",
   "mimetype": "text/x-python",
   "name": "python",
   "nbconvert_exporter": "python",
   "pygments_lexer": "ipython3",
   "version": "3.9.7"
  }
 },
 "nbformat": 4,
 "nbformat_minor": 4
}
