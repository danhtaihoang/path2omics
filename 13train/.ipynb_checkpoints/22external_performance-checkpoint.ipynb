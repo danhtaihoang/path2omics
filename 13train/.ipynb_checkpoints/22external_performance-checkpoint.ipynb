{
 "cells": [
  {
   "cell_type": "code",
   "execution_count": 1,
   "metadata": {},
   "outputs": [],
   "source": [
    "import numpy as np\n",
    "import pandas as pd\n",
    "import matplotlib.pyplot as plt\n",
    "import os,sys,time\n",
    "from utils import *"
   ]
  },
  {
   "cell_type": "code",
   "execution_count": 2,
   "metadata": {},
   "outputs": [],
   "source": [
    "project1 = \"BRCA\"\n",
    "project2 = \"BC\"\n",
    "\n",
    "path2target = \"../12target/\"\n",
    "result_folder = f\"{project2}_results/\""
   ]
  },
  {
   "cell_type": "code",
   "execution_count": 3,
   "metadata": {},
   "outputs": [
    {
     "name": "stdout",
     "output_type": "stream",
     "text": [
      "n_genes: 18450\n"
     ]
    }
   ],
   "source": [
    "genes_source = np.loadtxt(f\"{path2target}{project1}_genes.txt\", dtype=\"str\")\n",
    "genes_source = genes_source[:,0]\n",
    "n_genes = len(genes_source)\n",
    "print(\"n_genes:\", n_genes)"
   ]
  },
  {
   "cell_type": "code",
   "execution_count": 4,
   "metadata": {},
   "outputs": [
    {
     "name": "stdout",
     "output_type": "stream",
     "text": [
      "(17033,)\n",
      "['A1BG' 'A1BG-AS1' 'A2M' ... 'ZZEF1' 'ZZZ3' 'pk']\n",
      "(17033,)\n"
     ]
    }
   ],
   "source": [
    "genes_target = np.loadtxt(f\"{path2target}{project2}_genes.txt\", dtype=\"str\")\n",
    "print(genes_target.shape)\n",
    "\n",
    "genes = np.intersect1d(genes_source, genes_target)\n",
    "print(genes)\n",
    "print(genes.shape)\n",
    "\n",
    "cols = np.hstack((\"patient_id\", genes))"
   ]
  },
  {
   "cell_type": "code",
   "execution_count": 5,
   "metadata": {},
   "outputs": [
    {
     "name": "stdout",
     "output_type": "stream",
     "text": [
      "(160, 17033)\n",
      "(160, 17033)\n"
     ]
    }
   ],
   "source": [
    "df_pred = pd.read_pickle(f\"{result_folder}{project2}_pred.pkl\")\n",
    "#df_actual = pd.read_pickle(f\"../12target/{project2}_log.pkl\")\n",
    "df_actual = pd.read_pickle(f\"../12target/{project2}_actual.pkl\")\n",
    "\n",
    "df_pred = df_pred[cols]\n",
    "df_actual = df_actual[cols]\n",
    "\n",
    "pred = df_pred[genes].values\n",
    "print(pred.shape)\n",
    "\n",
    "actual = df_actual[genes].values\n",
    "print(actual.shape)\n",
    "\n",
    "df_pred.to_pickle(f\"{result_folder}{project2}_pred_patient.pkl\")\n",
    "df_actual.to_pickle(f\"{result_folder}{project2}_actual_patient.pkl\")"
   ]
  },
  {
   "cell_type": "code",
   "execution_count": 6,
   "metadata": {},
   "outputs": [
    {
     "name": "stdout",
     "output_type": "stream",
     "text": [
      "3772 2567 1730 1104 686\n",
      "number of predictable genes across all samples - adjusted: 5514\n",
      "n_genes with p<0.05: 5514\n",
      "R0_min: 0.34318666423091965\n"
     ]
    }
   ],
   "source": [
    "coef, slope, p_adj = compute_coef_slope_padj(actual, pred)\n",
    "print(sum(coef > 0.4),sum(coef > 0.45),sum(coef > 0.5), sum(coef > 0.55), sum(coef > 0.6))\n",
    "\n",
    "n_genes_p_adj005 = np.sum(p_adj<0.05)\n",
    "print(\"number of predictable genes across all samples - adjusted:\", n_genes_p_adj005)\n",
    "\n",
    "np.savetxt(f\"{result_folder}n_predictable_genes.txt\", np.array([n_genes_p_adj005]), fmt=\"%s\")\n",
    "\n",
    "## find coef_min with p_adj < 0.05:\n",
    "i = p_adj < 0.05\n",
    "R0 = coef[i]\n",
    "\n",
    "n0 = R0.shape[0]\n",
    "R0_min = np.min(R0)\n",
    "print(\"n_genes with p<0.05:\", n0)\n",
    "print(\"R0_min:\", R0_min)"
   ]
  },
  {
   "cell_type": "code",
   "execution_count": 7,
   "metadata": {},
   "outputs": [],
   "source": [
    "df = pd.DataFrame(data={\"genes\": genes, \"coef\": coef, \"slope\": slope, \"p_adj\": p_adj})\n",
    "df.to_csv(f\"{result_folder}R_all.csv\", index=None)\n",
    "df_sorted = df.sort_values(by=\"coef\", ascending=False)                   \n",
    "df_sorted.to_csv(f\"{result_folder}R_all_sorted.csv\", index=None)"
   ]
  },
  {
   "cell_type": "code",
   "execution_count": 8,
   "metadata": {},
   "outputs": [
    {
     "name": "stdout",
     "output_type": "stream",
     "text": [
      "0 0.4 3772.0\n",
      "1 0.42000000000000004 3257.0\n",
      "2 0.44 2778.0\n",
      "3 0.46 2385.0\n",
      "4 0.48 2030.0\n",
      "5 0.5 1730.0\n",
      "6 0.52 1436.0\n",
      "7 0.54 1209.0\n",
      "8 0.56 1003.0\n",
      "9 0.58 836.0\n",
      "10 0.6 686.0\n"
     ]
    }
   ],
   "source": [
    "## cumulative: number of genes with coefs > threshold\n",
    "coef0= np.linspace(0.4, 0.6, 11, endpoint=True)\n",
    "n = np.zeros(len(coef0))\n",
    "for i, t in enumerate(coef0):\n",
    "    n[i] = sum(coef > t)\n",
    "    print(i, t, n[i])\n",
    "    \n",
    "np.savetxt(f\"{result_folder}n_genes_threshold.txt\", np.array((coef0, n)).T, fmt=\"%s %s\")"
   ]
  },
  {
   "cell_type": "code",
   "execution_count": 9,
   "metadata": {},
   "outputs": [
    {
     "data": {
      "image/png": "[encoded data removed]",
      "text/plain": [
       "<Figure size 504x216 with 2 Axes>"
      ]
     },
     "metadata": {
      "needs_background": "light"
     },
     "output_type": "display_data"
    }
   ],
   "source": [
    "nx,ny = 2,1\n",
    "fig, ax = plt.subplots(ny,nx,figsize=(nx*3.5,ny*3))\n",
    "\n",
    "bins1 = np.linspace(-0.2,0.8,11, endpoint=True)\n",
    "ax[0].hist(coef,bins=bins1,histtype='bar',color=\"lightblue\",edgecolor=\"black\",rwidth=0.85)\n",
    "ax[0].plot([R0_min, R0_min],[0,50000], \"--\", color=\"red\", label=\"p-adj=0.05\")\n",
    "ax[0].set_xlabel(\"Correlation\")\n",
    "ax[0].set_ylabel(\"Number of sites\")\n",
    "ax[0].set_xticks([-0.2,0,0.2,0.4,0.6,0.8])\n",
    "ax[0].set_ylim(0,6000)\n",
    "ax[0].set_yticks([1000,2000,3000,4000,5000,6000])\n",
    "ax[0].legend()\n",
    "\n",
    "ax[1].plot(coef0,n, \"o--\", label=\"DeepPT\")\n",
    "ax[1].set_xlabel(\"Correlation threshold\")\n",
    "ax[1].set_ylabel(\"Number of sites\")\n",
    "#ax[1].plot(0.4,786, \"^\", label=\"HE2RNA\")\n",
    "\n",
    "#ax[1].legend()\n",
    "plt.tight_layout(h_pad=1, w_pad= 1.5)\n",
    "plt.savefig(f\"{result_folder}hist_cum.pdf\", format='pdf', dpi=50)"
   ]
  },
  {
   "cell_type": "code",
   "execution_count": null,
   "metadata": {},
   "outputs": [],
   "source": []
  }
 ],
 "metadata": {
  "kernelspec": {
   "display_name": "Python 3 (ipykernel)",
   "language": "python",
   "name": "python3"
  },
  "language_info": {
   "codemirror_mode": {
    "name": "ipython",
    "version": 3
   },
   "file_extension": ".py",
   "mimetype": "text/x-python",
   "name": "python",
   "nbconvert_exporter": "python",
   "pygments_lexer": "ipython3",
   "version": "3.9.7"
  }
 },
 "nbformat": 4,
 "nbformat_minor": 4
}
